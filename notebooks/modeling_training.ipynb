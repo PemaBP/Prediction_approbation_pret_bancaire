{
 "cells": [
  {
   "cell_type": "markdown",
   "id": "c5f1393c",
   "metadata": {},
   "source": [
    "# Modèle d'entraînement et de test"
   ]
  },
  {
   "cell_type": "markdown",
   "id": "c1ee6a9f",
   "metadata": {},
   "source": [
    "## Splitting du dataset"
   ]
  },
  {
   "cell_type": "code",
   "execution_count": 96,
   "id": "a041589d",
   "metadata": {},
   "outputs": [],
   "source": [
    "import pandas as pd\n",
    "from sklearn.model_selection import train_test_split"
   ]
  },
  {
   "cell_type": "code",
   "execution_count": 97,
   "id": "3b84d2d9",
   "metadata": {},
   "outputs": [],
   "source": [
    "loan_df=pd.read_csv(\"../data/Loan_clean.csv\")"
   ]
  },
  {
   "cell_type": "code",
   "execution_count": 98,
   "id": "0cab2096",
   "metadata": {},
   "outputs": [],
   "source": [
    "# Séparation des features et des targets\n",
    "X = loan_df.drop(\"Loan_Status\", axis=1)\n",
    "y = loan_df[\"Loan_Status\"]"
   ]
  },
  {
   "cell_type": "code",
   "execution_count": 99,
   "id": "0832d17b",
   "metadata": {},
   "outputs": [
    {
     "name": "stdout",
     "output_type": "stream",
     "text": [
      "train : (491, 15)\n",
      "test : (123, 15)\n"
     ]
    }
   ],
   "source": [
    "#Split train/test\n",
    "X_train, X_test, y_train, y_test = train_test_split(X, y, test_size=0.2, random_state=42, stratify=y) #80% train, 20% test(0.2)\n",
    "\n",
    "\n",
    "print(\"train :\", X_train.shape)\n",
    "print(\"test :\", X_test.shape)"
   ]
  },
  {
   "cell_type": "markdown",
   "id": "9fd1c0d5",
   "metadata": {},
   "source": [
    "## Modèle d'entraînement"
   ]
  },
  {
   "cell_type": "code",
   "execution_count": 100,
   "id": "65915262",
   "metadata": {},
   "outputs": [],
   "source": [
    "from sklearn.compose import ColumnTransformer\n",
    "from sklearn.preprocessing import OneHotEncoder, StandardScaler\n",
    "from sklearn.pipeline import Pipeline\n",
    "from sklearn.impute import SimpleImputer\n",
    "import numpy as np"
   ]
  },
  {
   "cell_type": "markdown",
   "id": "bdca0110",
   "metadata": {},
   "source": [
    "Variable catégorielle  --> Encodage en numérique"
   ]
  },
  {
   "cell_type": "code",
   "execution_count": 101,
   "id": "37ba2f7f",
   "metadata": {},
   "outputs": [],
   "source": [
    "vlr_numerique = [\"ApplicantIncome\", \"CoapplicantIncome\", \"LoanAmount_log\", \"InterestRate\"]\n",
    "vlr_categorie = [\"Gender\", \"Married\", \"Education\", \"Self_Employed\", \"Property_Area\"]\n",
    "\n",
    "encoder=OneHotEncoder(drop='first', handle_unknown='ignore')\n",
    "x_train_categorie = encoder.fit_transform(X_train[vlr_categorie])\n",
    "x_test_categorie = encoder.transform(X_test[vlr_categorie])"
   ]
  },
  {
   "cell_type": "markdown",
   "id": "7f791e71",
   "metadata": {},
   "source": [
    "Mise à l'échelle des vlr numériques"
   ]
  },
  {
   "cell_type": "code",
   "execution_count": 102,
   "id": "fd6ff24b",
   "metadata": {},
   "outputs": [],
   "source": [
    "scaler=StandardScaler()\n",
    "x_train_numerique = scaler.fit_transform(X_train[vlr_numerique])\n",
    "x_test_numerique = scaler.transform(X_test[vlr_numerique])"
   ]
  },
  {
   "cell_type": "markdown",
   "id": "9366f1b3",
   "metadata": {},
   "source": [
    "Fusion des valeurs numériques et catégorielles"
   ]
  },
  {
   "cell_type": "code",
   "execution_count": 103,
   "id": "f25932e2",
   "metadata": {},
   "outputs": [
    {
     "name": "stdout",
     "output_type": "stream",
     "text": [
      "X_train_final shape : (491, 13)\n",
      "X_test_final shape : (123, 13)\n"
     ]
    }
   ],
   "source": [
    "X_train_final = np.hstack((x_train_numerique, x_train_categorie.toarray()))\n",
    "X_test_final = np.hstack((x_test_numerique, x_test_categorie.toarray()))\n",
    "\n",
    "print(\"X_train_final shape :\", X_train_final.shape)\n",
    "print(\"X_test_final shape :\", X_test_final.shape)"
   ]
  },
  {
   "cell_type": "code",
   "execution_count": 104,
   "id": "a4b94bb3",
   "metadata": {},
   "outputs": [
    {
     "name": "stdout",
     "output_type": "stream",
     "text": [
      "NaN dans X_train : 0\n",
      "NaN dans X_test  : 0\n"
     ]
    }
   ],
   "source": [
    "print(\"NaN dans X_train :\", np.isnan(X_train_final).sum())\n",
    "print(\"NaN dans X_test  :\", np.isnan(X_test_final).sum())"
   ]
  },
  {
   "cell_type": "markdown",
   "id": "f3b2efeb",
   "metadata": {},
   "source": [
    "## Entraînement des modèles"
   ]
  },
  {
   "cell_type": "code",
   "execution_count": 106,
   "id": "aef00a00",
   "metadata": {},
   "outputs": [],
   "source": [
    "from sklearn.metrics import accuracy_score, precision_score, recall_score, f1_score, roc_auc_score, classification_report, confusion_matrix\n",
    "from sklearn.linear_model import LogisticRegression\n",
    "from sklearn.ensemble import RandomForestClassifier\n",
    "from sklearn.tree import DecisionTreeClassifier\n",
    "from sklearn.ensemble import AdaBoostClassifier\n",
    "from xgboost import XGBClassifier\n",
    "from sklearn.discriminant_analysis import LinearDiscriminantAnalysis\n",
    "from sklearn.dummy import DummyClassifier\n",
    "import matplotlib.pyplot as plt\n",
    "import pandas as pd\n",
    "import numpy as np\n",
    "import seaborn as sns"
   ]
  },
  {
   "cell_type": "markdown",
   "id": "6f263cea",
   "metadata": {},
   "source": [
    "#### Régression Logistique"
   ]
  },
  {
   "cell_type": "code",
   "execution_count": 107,
   "id": "dbebb088",
   "metadata": {},
   "outputs": [
    {
     "name": "stdout",
     "output_type": "stream",
     "text": [
      "Accuracy : 0.6991869918699187\n",
      "Precision: 0.7033898305084746\n",
      "Recall   : 0.9764705882352941\n",
      "F1       : 0.8177339901477833\n",
      "ROC AUC  : 0.5860681114551084\n",
      "\n",
      "Classification report:\n",
      "               precision    recall  f1-score   support\n",
      "\n",
      "           0       0.60      0.08      0.14        38\n",
      "           1       0.70      0.98      0.82        85\n",
      "\n",
      "    accuracy                           0.70       123\n",
      "   macro avg       0.65      0.53      0.48       123\n",
      "weighted avg       0.67      0.70      0.61       123\n",
      "\n",
      "Confusion matrix:\n",
      " [[ 3 35]\n",
      " [ 2 83]]\n"
     ]
    }
   ],
   "source": [
    "log_reg = LogisticRegression(max_iter=1000, random_state=42) #Creation du modèle\n",
    "log_reg.fit(X_train_final, y_train) #Entrainement du modèle avec fit\n",
    "\n",
    "#Prédictions\n",
    "y_pred_log = log_reg.predict(X_test_final)\n",
    "y_proba_log = log_reg.predict_proba(X_test_final)[:, 1]\n",
    "\n",
    "# Évaluation des métriques\n",
    "print(\"Accuracy :\", accuracy_score(y_test, y_pred_log))\n",
    "print(\"Precision:\", precision_score(y_test, y_pred_log, zero_division=0))\n",
    "print(\"Recall   :\", recall_score(y_test, y_pred_log, zero_division=0))\n",
    "print(\"F1       :\", f1_score(y_test, y_pred_log, zero_division=0))\n",
    "print(\"ROC AUC  :\", roc_auc_score(y_test, y_proba_log))\n",
    "print(\"\\nClassification report:\\n\", classification_report(y_test, y_pred_log, zero_division=0))\n",
    "print(\"Confusion matrix:\\n\", confusion_matrix(y_test, y_pred_log))"
   ]
  },
  {
   "cell_type": "markdown",
   "id": "d8f3f039",
   "metadata": {},
   "source": [
    "#### Arbre de décision"
   ]
  },
  {
   "cell_type": "code",
   "execution_count": 108,
   "id": "528abb82",
   "metadata": {},
   "outputs": [
    {
     "name": "stdout",
     "output_type": "stream",
     "text": [
      "Accuracy : 0.6260162601626016\n",
      "Precision: 0.7191011235955056\n",
      "Recall   : 0.7529411764705882\n",
      "F1       : 0.735632183908046\n",
      "ROC AUC  : 0.5475232198142415\n",
      "\n",
      "Classification report:\n",
      "               precision    recall  f1-score   support\n",
      "\n",
      "           0       0.38      0.34      0.36        38\n",
      "           1       0.72      0.75      0.74        85\n",
      "\n",
      "    accuracy                           0.63       123\n",
      "   macro avg       0.55      0.55      0.55       123\n",
      "weighted avg       0.62      0.63      0.62       123\n",
      "\n",
      "Confusion matrix:\n",
      " [[13 25]\n",
      " [21 64]]\n"
     ]
    }
   ],
   "source": [
    "dt = DecisionTreeClassifier(random_state=42) \n",
    "dt.fit(X_train_final, y_train)\n",
    "\n",
    "y_pred_dt = dt.predict(X_test_final)\n",
    "y_proba_dt = dt.predict_proba(X_test_final)[:, 1]\n",
    "\n",
    "print(\"Accuracy :\", accuracy_score(y_test, y_pred_dt))\n",
    "print(\"Precision:\", precision_score(y_test, y_pred_dt, zero_division=0))\n",
    "print(\"Recall   :\", recall_score(y_test, y_pred_dt, zero_division=0))\n",
    "print(\"F1       :\", f1_score(y_test, y_pred_dt, zero_division=0))\n",
    "print(\"ROC AUC  :\", roc_auc_score(y_test, y_proba_dt))\n",
    "print(\"\\nClassification report:\\n\", classification_report(y_test, y_pred_dt, zero_division=0))\n",
    "print(\"Confusion matrix:\\n\", confusion_matrix(y_test, y_pred_dt))"
   ]
  },
  {
   "cell_type": "markdown",
   "id": "85047901",
   "metadata": {},
   "source": [
    "#### Random Forest"
   ]
  },
  {
   "cell_type": "code",
   "execution_count": 109,
   "id": "74b72a47",
   "metadata": {},
   "outputs": [
    {
     "name": "stdout",
     "output_type": "stream",
     "text": [
      "Accuracy : 0.68\n",
      "Precision: 0.71\n",
      "Recall   : 0.92\n",
      "F1       : 0.8\n",
      "ROC AUC  : 0.6\n",
      "\n",
      "Classification report:\n",
      "               precision    recall  f1-score   support\n",
      "\n",
      "           0       0.46      0.16      0.24        38\n",
      "           1       0.71      0.92      0.80        85\n",
      "\n",
      "    accuracy                           0.68       123\n",
      "   macro avg       0.59      0.54      0.52       123\n",
      "weighted avg       0.63      0.68      0.63       123\n",
      "\n",
      "Confusion matrix:\n",
      " [[ 6 32]\n",
      " [ 7 78]]\n"
     ]
    }
   ],
   "source": [
    "rf = RandomForestClassifier(n_estimators=300, random_state=42, class_weight=\"balanced\")\n",
    "rf.fit(X_train_final, y_train)\n",
    "\n",
    "y_pred_rf = rf.predict(X_test_final)\n",
    "y_proba_rf = rf.predict_proba(X_test_final)[:, 1]\n",
    "\n",
    "print(\"Accuracy :\", round(accuracy_score(y_test, y_pred_rf), 2))\n",
    "print(\"Precision:\", round(precision_score(y_test, y_pred_rf, zero_division=0), 2))\n",
    "print(\"Recall   :\", round(recall_score(y_test, y_pred_rf, zero_division=0), 2))\n",
    "print(\"F1       :\", round(f1_score(y_test, y_pred_rf, zero_division=0), 2))\n",
    "print(\"ROC AUC  :\", round(roc_auc_score(y_test, y_proba_rf), 2))\n",
    "print(\"\\nClassification report:\\n\", classification_report(y_test, y_pred_rf, zero_division=0))\n",
    "print(\"Confusion matrix:\\n\", confusion_matrix(y_test, y_pred_rf))"
   ]
  },
  {
   "cell_type": "markdown",
   "id": "77a6ac55",
   "metadata": {},
   "source": [
    "#### AdaBoost"
   ]
  },
  {
   "cell_type": "code",
   "execution_count": 110,
   "id": "49e11c94",
   "metadata": {},
   "outputs": [
    {
     "name": "stdout",
     "output_type": "stream",
     "text": [
      "Accuracy : 0.63\n",
      "Precision: 0.69\n",
      "Recall   : 0.82\n",
      "F1       : 0.75\n",
      "ROC AUC  : 0.5\n",
      "\n",
      "Classification report:\n",
      "               precision    recall  f1-score   support\n",
      "\n",
      "           0       0.32      0.18      0.23        38\n",
      "           1       0.69      0.82      0.75        85\n",
      "\n",
      "    accuracy                           0.63       123\n",
      "   macro avg       0.51      0.50      0.49       123\n",
      "weighted avg       0.58      0.63      0.59       123\n",
      "\n",
      "Confusion matrix:\n",
      " [[ 7 31]\n",
      " [15 70]]\n"
     ]
    }
   ],
   "source": [
    "\n",
    "ada = AdaBoostClassifier(n_estimators=300, random_state=42)\n",
    "ada.fit(X_train_final, y_train)\n",
    "\n",
    "y_pred_ada = ada.predict(X_test_final)\n",
    "y_proba_ada = ada.predict_proba(X_test_final)[:, 1]\n",
    "\n",
    "print(\"Accuracy :\", round(accuracy_score(y_test, y_pred_ada), 2))\n",
    "print(\"Precision:\", round(precision_score(y_test, y_pred_ada, zero_division=0), 2))\n",
    "print(\"Recall   :\", round(recall_score(y_test, y_pred_ada, zero_division=0), 2))\n",
    "print(\"F1       :\", round(f1_score(y_test, y_pred_ada, zero_division=0), 2))\n",
    "print(\"ROC AUC  :\", round(roc_auc_score(y_test, y_proba_ada), 2))\n",
    "print(\"\\nClassification report:\\n\", classification_report(y_test, y_pred_ada, zero_division=0))\n",
    "print(\"Confusion matrix:\\n\", confusion_matrix(y_test, y_pred_ada))"
   ]
  },
  {
   "cell_type": "markdown",
   "id": "699bf1e4",
   "metadata": {},
   "source": [
    "#### Linear Discriminant Analysis (LDA)"
   ]
  },
  {
   "cell_type": "code",
   "execution_count": 111,
   "id": "80a5f2ab",
   "metadata": {},
   "outputs": [
    {
     "name": "stdout",
     "output_type": "stream",
     "text": [
      "Accuracy : 0.71\n",
      "Precision: 0.71\n",
      "Recall   : 0.99\n",
      "F1       : 0.82\n",
      "ROC AUC  : 0.61\n",
      "\n",
      "Classification report:\n",
      "               precision    recall  f1-score   support\n",
      "\n",
      "           0       0.75      0.08      0.14        38\n",
      "           1       0.71      0.99      0.82        85\n",
      "\n",
      "    accuracy                           0.71       123\n",
      "   macro avg       0.73      0.53      0.48       123\n",
      "weighted avg       0.72      0.71      0.61       123\n",
      "\n",
      "Confusion matrix:\n",
      " [[ 3 35]\n",
      " [ 1 84]]\n"
     ]
    }
   ],
   "source": [
    "lda = LinearDiscriminantAnalysis(solver=\"lsqr\", shrinkage=\"auto\")  # stable avec beaucoup d'OHE\n",
    "lda.fit(X_train_final, y_train)\n",
    "\n",
    "y_pred_lda = lda.predict(X_test_final)\n",
    "# LDA renvoie des proba\n",
    "y_proba_lda = lda.predict_proba(X_test_final)[:, 1]\n",
    "\n",
    "print(\"Accuracy :\", round(accuracy_score(y_test, y_pred_lda), 2))\n",
    "print(\"Precision:\", round(precision_score(y_test, y_pred_lda, zero_division=0), 2))\n",
    "print(\"Recall   :\", round(recall_score(y_test, y_pred_lda, zero_division=0), 2))\n",
    "print(\"F1       :\", round(f1_score(y_test, y_pred_lda, zero_division=0), 2))\n",
    "print(\"ROC AUC  :\", round(roc_auc_score(y_test, y_proba_lda), 2))\n",
    "print(\"\\nClassification report:\\n\", classification_report(y_test, y_pred_lda, zero_division=0))\n",
    "print(\"Confusion matrix:\\n\", confusion_matrix(y_test, y_pred_lda))"
   ]
  },
  {
   "cell_type": "markdown",
   "id": "fbc93dd8",
   "metadata": {},
   "source": [
    "#### XGBoost"
   ]
  },
  {
   "cell_type": "code",
   "execution_count": 112,
   "id": "4be1d918",
   "metadata": {},
   "outputs": [
    {
     "name": "stdout",
     "output_type": "stream",
     "text": [
      "Accuracy : 0.63\n",
      "Precision: 0.7\n",
      "Recall   : 0.84\n",
      "F1       : 0.76\n",
      "ROC AUC  : 0.55\n",
      "\n",
      "Classification report:\n",
      "               precision    recall  f1-score   support\n",
      "\n",
      "           0       0.33      0.18      0.24        38\n",
      "           1       0.70      0.84      0.76        85\n",
      "\n",
      "    accuracy                           0.63       123\n",
      "   macro avg       0.51      0.51      0.50       123\n",
      "weighted avg       0.58      0.63      0.60       123\n",
      "\n",
      "Confusion matrix:\n",
      " [[ 7 31]\n",
      " [14 71]]\n"
     ]
    }
   ],
   "source": [
    "xgb = XGBClassifier(\n",
    "    n_estimators=500,\n",
    "    max_depth=4,\n",
    "    learning_rate=0.05,\n",
    "    subsample=0.9,\n",
    "    colsample_bytree=0.9,\n",
    "    reg_lambda=1.0,\n",
    "    random_state=42,\n",
    "    n_jobs=-1,\n",
    "    objective=\"binary:logistic\",\n",
    "    eval_metric=\"logloss\"\n",
    ")\n",
    "xgb.fit(X_train_final, y_train)\n",
    "\n",
    "y_pred_xgb = xgb.predict(X_test_final)\n",
    "y_proba_xgb = xgb.predict_proba(X_test_final)[:, 1]\n",
    "\n",
    "print(\"Accuracy :\", round(accuracy_score(y_test, y_pred_xgb), 2))\n",
    "print(\"Precision:\", round(precision_score(y_test, y_pred_xgb, zero_division=0), 2))\n",
    "print(\"Recall   :\", round(recall_score(y_test, y_pred_xgb, zero_division=0), 2))\n",
    "print(\"F1       :\", round(f1_score(y_test, y_pred_xgb, zero_division=0), 2))\n",
    "print(\"ROC AUC  :\", round(roc_auc_score(y_test, y_proba_xgb), 2))\n",
    "print(\"\\nClassification report:\\n\", classification_report(y_test, y_pred_xgb, zero_division=0))\n",
    "print(\"Confusion matrix:\\n\", confusion_matrix(y_test, y_pred_xgb))"
   ]
  },
  {
   "cell_type": "markdown",
   "id": "863728c7",
   "metadata": {},
   "source": [
    "#### Dummy Classifier"
   ]
  },
  {
   "cell_type": "code",
   "execution_count": 113,
   "id": "1a8d78e0",
   "metadata": {},
   "outputs": [
    {
     "name": "stdout",
     "output_type": "stream",
     "text": [
      "Accuracy : 0.69\n",
      "Precision: 0.69\n",
      "Recall   : 1.0\n",
      "F1       : 0.82\n",
      "ROC AUC  : 0.5\n",
      "\n",
      "Classification report:\n",
      "               precision    recall  f1-score   support\n",
      "\n",
      "           0       0.00      0.00      0.00        38\n",
      "           1       0.69      1.00      0.82        85\n",
      "\n",
      "    accuracy                           0.69       123\n",
      "   macro avg       0.35      0.50      0.41       123\n",
      "weighted avg       0.48      0.69      0.56       123\n",
      "\n",
      "Confusion matrix:\n",
      " [[ 0 38]\n",
      " [ 0 85]]\n"
     ]
    }
   ],
   "source": [
    "dummy = DummyClassifier(strategy=\"most_frequent\", random_state=42)\n",
    "dummy.fit(X_train_final, y_train)\n",
    "\n",
    "y_pred_dummy = dummy.predict(X_test_final)\n",
    "y_proba_dummy = dummy.predict_proba(X_test_final)[:, 1]\n",
    "\n",
    "print(\"Accuracy :\", round(accuracy_score(y_test, y_pred_dummy), 2))\n",
    "print(\"Precision:\", round(precision_score(y_test, y_pred_dummy, zero_division=0), 2))\n",
    "print(\"Recall   :\", round(recall_score(y_test, y_pred_dummy, zero_division=0), 2))\n",
    "print(\"F1       :\", round(f1_score(y_test, y_pred_dummy, zero_division=0), 2))\n",
    "print(\"ROC AUC  :\", round(roc_auc_score(y_test, y_proba_dummy), 2))\n",
    "print(\"\\nClassification report:\\n\", classification_report(y_test, y_pred_dummy, zero_division=0))\n",
    "print(\"Confusion matrix:\\n\", confusion_matrix(y_test, y_pred_dummy))\n"
   ]
  },
  {
   "cell_type": "markdown",
   "id": "a60c2d27",
   "metadata": {},
   "source": [
    "### Comparaison des performances"
   ]
  },
  {
   "cell_type": "code",
   "execution_count": 114,
   "id": "688b20e9",
   "metadata": {},
   "outputs": [],
   "source": [
    "# Dictionnaire vide pour stocker les résultats\n",
    "results = {}\n",
    "\n",
    "# Liste des modèles déjà entraînés\n",
    "models = {\n",
    "    \"Logistic Regression\": log_reg,\n",
    "    \"Random Forest\": rf,\n",
    "    \"Decision Tree\": dt,\n",
    "    \"XGBoost\": xgb,\n",
    "    \"AdaBoost\": ada,\n",
    "    \"LDA\": lda,\n",
    "    \"Dummy\": dummy\n",
    "}\n",
    "\n",
    "# Boucle pour calculer les métriques\n",
    "for name, model in models.items():\n",
    "    y_pred = model.predict(X_test_final)\n",
    "    results[name] = {\n",
    "        \"Accuracy\": accuracy_score(y_test, y_pred),\n",
    "        \"Precision\": precision_score(y_test, y_pred),\n",
    "        \"Recall\": recall_score(y_test, y_pred),\n",
    "        \"F1\": f1_score(y_test, y_pred),\n",
    "        \"ROC-AUC\": roc_auc_score(y_test, model.predict_proba(X_test_final)[:,1])\n",
    "    }"
   ]
  },
  {
   "cell_type": "code",
   "execution_count": 115,
   "id": "6c61c739",
   "metadata": {
    "vscode": {
     "languageId": "javascript"
    }
   },
   "outputs": [
    {
     "data": {
      "text/html": [
       "<div>\n",
       "<style scoped>\n",
       "    .dataframe tbody tr th:only-of-type {\n",
       "        vertical-align: middle;\n",
       "    }\n",
       "\n",
       "    .dataframe tbody tr th {\n",
       "        vertical-align: top;\n",
       "    }\n",
       "\n",
       "    .dataframe thead th {\n",
       "        text-align: right;\n",
       "    }\n",
       "</style>\n",
       "<table border=\"1\" class=\"dataframe\">\n",
       "  <thead>\n",
       "    <tr style=\"text-align: right;\">\n",
       "      <th></th>\n",
       "      <th>Accuracy</th>\n",
       "      <th>Precision</th>\n",
       "      <th>Recall</th>\n",
       "      <th>F1</th>\n",
       "      <th>ROC-AUC</th>\n",
       "    </tr>\n",
       "  </thead>\n",
       "  <tbody>\n",
       "    <tr>\n",
       "      <th>Logistic Regression</th>\n",
       "      <td>0.699187</td>\n",
       "      <td>0.703390</td>\n",
       "      <td>0.976471</td>\n",
       "      <td>0.817734</td>\n",
       "      <td>0.586068</td>\n",
       "    </tr>\n",
       "    <tr>\n",
       "      <th>Random Forest</th>\n",
       "      <td>0.682927</td>\n",
       "      <td>0.709091</td>\n",
       "      <td>0.917647</td>\n",
       "      <td>0.800000</td>\n",
       "      <td>0.604799</td>\n",
       "    </tr>\n",
       "    <tr>\n",
       "      <th>Decision Tree</th>\n",
       "      <td>0.626016</td>\n",
       "      <td>0.719101</td>\n",
       "      <td>0.752941</td>\n",
       "      <td>0.735632</td>\n",
       "      <td>0.547523</td>\n",
       "    </tr>\n",
       "    <tr>\n",
       "      <th>XGBoost</th>\n",
       "      <td>0.634146</td>\n",
       "      <td>0.696078</td>\n",
       "      <td>0.835294</td>\n",
       "      <td>0.759358</td>\n",
       "      <td>0.548297</td>\n",
       "    </tr>\n",
       "    <tr>\n",
       "      <th>AdaBoost</th>\n",
       "      <td>0.626016</td>\n",
       "      <td>0.693069</td>\n",
       "      <td>0.823529</td>\n",
       "      <td>0.752688</td>\n",
       "      <td>0.503096</td>\n",
       "    </tr>\n",
       "    <tr>\n",
       "      <th>LDA</th>\n",
       "      <td>0.707317</td>\n",
       "      <td>0.705882</td>\n",
       "      <td>0.988235</td>\n",
       "      <td>0.823529</td>\n",
       "      <td>0.610217</td>\n",
       "    </tr>\n",
       "    <tr>\n",
       "      <th>Dummy</th>\n",
       "      <td>0.691057</td>\n",
       "      <td>0.691057</td>\n",
       "      <td>1.000000</td>\n",
       "      <td>0.817308</td>\n",
       "      <td>0.500000</td>\n",
       "    </tr>\n",
       "  </tbody>\n",
       "</table>\n",
       "</div>"
      ],
      "text/plain": [
       "                     Accuracy  Precision    Recall        F1   ROC-AUC\n",
       "Logistic Regression  0.699187   0.703390  0.976471  0.817734  0.586068\n",
       "Random Forest        0.682927   0.709091  0.917647  0.800000  0.604799\n",
       "Decision Tree        0.626016   0.719101  0.752941  0.735632  0.547523\n",
       "XGBoost              0.634146   0.696078  0.835294  0.759358  0.548297\n",
       "AdaBoost             0.626016   0.693069  0.823529  0.752688  0.503096\n",
       "LDA                  0.707317   0.705882  0.988235  0.823529  0.610217\n",
       "Dummy                0.691057   0.691057  1.000000  0.817308  0.500000"
      ]
     },
     "metadata": {},
     "output_type": "display_data"
    }
   ],
   "source": [
    "\n",
    "results_df = pd.DataFrame(results).T\n",
    "display(results_df)"
   ]
  },
  {
   "cell_type": "code",
   "execution_count": 116,
   "id": "cc60ceb9",
   "metadata": {},
   "outputs": [
    {
     "data": {
      "image/png": "[encoded data removed]",
      "text/plain": [
       "<Figure size 1000x600 with 1 Axes>"
      ]
     },
     "metadata": {},
     "output_type": "display_data"
    }
   ],
   "source": [
    "results_df = pd.DataFrame(results).T\n",
    "models_list = results_df.index  # model names\n",
    "x = np.arange(len(models_list))\n",
    "width = 0.15\n",
    "\n",
    "fig, ax = plt.subplots(figsize=(10, 6))\n",
    "for i, metric in enumerate(results_df.columns):\n",
    "    ax.bar(x + i * width, results_df[metric], width, label=metric)\n",
    "\n",
    "ax.set_xticks(x + width * 2)\n",
    "ax.set_xticklabels(models_list, rotation=45)\n",
    "ax.set_ylabel(\"Scores\")\n",
    "ax.set_title(\"Model Comparison across Metrics\")\n",
    "ax.legend(bbox_to_anchor=(1.05, 1), loc='upper left')  # legend on the right\n",
    "\n",
    "plt.tight_layout()\n",
    "plt.show()"
   ]
  },
  {
   "cell_type": "code",
   "execution_count": 117,
   "id": "c259f809",
   "metadata": {},
   "outputs": [
    {
     "data": {
      "image/png": "[encoded data removed]",
      "text/plain": [
       "<Figure size 1000x600 with 2 Axes>"
      ]
     },
     "metadata": {},
     "output_type": "display_data"
    }
   ],
   "source": [
    "# Visualisation 1: Heatmap des performances globales des modèles\n",
    "plt.figure(figsize=(10, 6))\n",
    "sns.heatmap(results_df, annot=True, fmt=\".2f\", cmap=\"YlGnBu\")\n",
    "plt.title(\"Comparaison des performances des modèles\")\n",
    "plt.show()"
   ]
  },
  {
   "cell_type": "code",
   "execution_count": 118,
   "id": "59934339",
   "metadata": {},
   "outputs": [
    {
     "data": {
      "image/png": "[encoded data removed]",
      "text/plain": [
       "<Figure size 2500x500 with 5 Axes>"
      ]
     },
     "metadata": {},
     "output_type": "display_data"
    }
   ],
   "source": [
    "# Plot each metric separately for comparison across models\n",
    "\n",
    "results_df = pd.DataFrame(results).T\n",
    "metrics = results_df.columns\n",
    "n_metrics = len(metrics)\n",
    "\n",
    "fig, axes = plt.subplots(1, n_metrics, figsize=(5 * n_metrics, 5))\n",
    "\n",
    "for i, metric in enumerate(metrics):\n",
    "    results_df[metric].plot(kind='bar', ax=axes[i], title=metric, color='skyblue')\n",
    "    axes[i].set_xlabel('Models')\n",
    "    axes[i].set_ylabel(metric)\n",
    "    axes[i].tick_params(axis='x', rotation=45)\n",
    "\n",
    "plt.tight_layout()\n",
    "plt.show()"
   ]
  },
  {
   "cell_type": "code",
   "execution_count": 119,
   "id": "7ea99023",
   "metadata": {},
   "outputs": [
    {
     "name": "stdout",
     "output_type": "stream",
     "text": [
      "LDA                    0.767036\n",
      "Logistic Regression    0.756570\n",
      "Random Forest          0.742893\n",
      "Dummy                  0.739884\n",
      "XGBoost                0.694635\n",
      "AdaBoost               0.679680\n",
      "Decision Tree          0.676243\n",
      "dtype: float64\n"
     ]
    }
   ],
   "source": [
    "# Calculer la moyenne des valeurs des métriques pour chaque modèle et trier dans l'ordre croissant\n",
    "results_df = pd.DataFrame(results).T\n",
    "average_metrics = results_df.mean(axis=1).sort_values(ascending=False)\n",
    "print(average_metrics)"
   ]
  },
  {
   "cell_type": "markdown",
   "id": "603b9324",
   "metadata": {},
   "source": [
    "### Choix du meilleur modèle"
   ]
  },
  {
   "cell_type": "code",
   "execution_count": 120,
   "id": "8a20e6cf",
   "metadata": {},
   "outputs": [
    {
     "data": {
      "image/png": "[encoded data removed]",
      "text/plain": [
       "<Figure size 800x500 with 1 Axes>"
      ]
     },
     "metadata": {},
     "output_type": "display_data"
    }
   ],
   "source": [
    "results_df = pd.DataFrame(results).T\n",
    "plt.figure(figsize=(8,5))\n",
    "bars = plt.bar(results_df.index, results_df[\"F1\"])\n",
    "plt.xticks(rotation=45)\n",
    "plt.ylabel(\"F1 Score\")\n",
    "plt.title(\"Comparaison des modèles (F1-score)\")\n",
    "\n",
    "# Add F1-score values on top of each bar\n",
    "for bar in bars:\n",
    "    height = bar.get_height()\n",
    "    plt.text(bar.get_x() + bar.get_width()/2, height, f'{height:.3f}', ha='center', va='bottom')\n",
    "\n",
    "plt.show()\n"
   ]
  },
  {
   "cell_type": "code",
   "execution_count": 137,
   "id": "42d43545",
   "metadata": {},
   "outputs": [
    {
     "name": "stdout",
     "output_type": "stream",
     "text": [
      "\n",
      "Modèles proches du meilleur F1-score (écart <= 0.01) :\n"
     ]
    },
    {
     "data": {
      "text/html": [
       "<div>\n",
       "<style scoped>\n",
       "    .dataframe tbody tr th:only-of-type {\n",
       "        vertical-align: middle;\n",
       "    }\n",
       "\n",
       "    .dataframe tbody tr th {\n",
       "        vertical-align: top;\n",
       "    }\n",
       "\n",
       "    .dataframe thead th {\n",
       "        text-align: right;\n",
       "    }\n",
       "</style>\n",
       "<table border=\"1\" class=\"dataframe\">\n",
       "  <thead>\n",
       "    <tr style=\"text-align: right;\">\n",
       "      <th></th>\n",
       "      <th>F1</th>\n",
       "      <th>ROC-AUC</th>\n",
       "    </tr>\n",
       "  </thead>\n",
       "  <tbody>\n",
       "    <tr>\n",
       "      <th>LDA</th>\n",
       "      <td>0.823529</td>\n",
       "      <td>0.610217</td>\n",
       "    </tr>\n",
       "    <tr>\n",
       "      <th>Logistic Regression</th>\n",
       "      <td>0.817734</td>\n",
       "      <td>0.586068</td>\n",
       "    </tr>\n",
       "    <tr>\n",
       "      <th>Dummy</th>\n",
       "      <td>0.817308</td>\n",
       "      <td>0.500000</td>\n",
       "    </tr>\n",
       "  </tbody>\n",
       "</table>\n",
       "</div>"
      ],
      "text/plain": [
       "                           F1   ROC-AUC\n",
       "LDA                  0.823529  0.610217\n",
       "Logistic Regression  0.817734  0.586068\n",
       "Dummy                0.817308  0.500000"
      ]
     },
     "metadata": {},
     "output_type": "display_data"
    }
   ],
   "source": [
    "# 1. Trier les modèles par F1-score (du meilleur au moins bon)\n",
    "sorted_df = results_df.sort_values('F1', ascending=False)\n",
    "\n",
    "# 2. Filtrer les modèles avec un F1 proche du maximum (ici à 0.01 près, ajustable)\n",
    "f1_max = sorted_df['F1'].iloc[0]\n",
    "f1_gap = 0.01\n",
    "candidats = sorted_df[sorted_df['F1'] >= f1_max - f1_gap]\n",
    "print(\"\\nModèles proches du meilleur F1-score (écart <= 0.01) :\")\n",
    "display(candidats[['F1', 'ROC-AUC']])\n",
    "\n",
    "# 3. Parmi les candidats, choisir celui avec le ROC-AUC le plus élevé\n",
    "final_model = candidats.sort_values('ROC-AUC', ascending=False).iloc[0]\n",
    "final_name = candidats.sort_values('ROC-AUC', ascending=False).index[0]\n"
   ]
  },
  {
   "cell_type": "code",
   "execution_count": 139,
   "id": "d3895a5e",
   "metadata": {},
   "outputs": [
    {
     "data": {
      "image/png": "[encoded data removed]",
      "text/plain": [
       "<Figure size 800x400 with 1 Axes>"
      ]
     },
     "metadata": {},
     "output_type": "display_data"
    }
   ],
   "source": [
    "plt.figure(figsize=(8,4))\n",
    "plt.scatter(candidats['F1'], candidats['ROC-AUC'], color='orange', s=100)\n",
    "for idx in candidats.index:\n",
    "    plt.text(candidats.loc[idx,'F1'], candidats.loc[idx,'ROC-AUC'], idx, fontsize=12)\n",
    "plt.xlabel(\"F1-score\")\n",
    "plt.ylabel(\"ROC-AUC\")\n",
    "plt.title(\"Sélection des modèles proches en F1-score et ROC-AUC\")\n",
    "plt.grid(True)\n",
    "plt.show()"
   ]
  },
  {
   "cell_type": "code",
   "execution_count": 131,
   "id": "879a21f6",
   "metadata": {},
   "outputs": [
    {
     "data": {
      "image/png": "[encoded data removed]",
      "text/plain": [
       "<Figure size 1000x400 with 4 Axes>"
      ]
     },
     "metadata": {},
     "output_type": "display_data"
    }
   ],
   "source": [
    "# Prédictions déjà calculées : y_pred_lda, y_pred_log\n",
    "# Vrais labels : y_test\n",
    "\n",
    "fig, axes = plt.subplots(1, 2, figsize=(10, 4))\n",
    "\n",
    "# LDA\n",
    "cm_lda = confusion_matrix(y_test, y_pred_lda)\n",
    "sns.heatmap(cm_lda, annot=True, fmt='d', cmap='Blues', ax=axes[0])\n",
    "axes[0].set_title(\"Matrice de confusion - LDA\")\n",
    "axes[0].set_xlabel(\"Prédit\")\n",
    "axes[0].set_ylabel(\"Réel\")\n",
    "\n",
    "# Régression Logistique\n",
    "cm_log = confusion_matrix(y_test, y_pred_log)\n",
    "sns.heatmap(cm_log, annot=True, fmt='d', cmap='Greens', ax=axes[1])\n",
    "axes[1].set_title(\"Matrice de confusion - Régression Logistique\")\n",
    "axes[1].set_xlabel(\"Prédit\")\n",
    "axes[1].set_ylabel(\"Réel\")\n",
    "\n",
    "plt.tight_layout()\n",
    "plt.show()"
   ]
  },
  {
   "cell_type": "markdown",
   "id": "667a7b14",
   "metadata": {},
   "source": [
    "## Tests et validation"
   ]
  },
  {
   "cell_type": "code",
   "execution_count": null,
   "id": "69df63ca",
   "metadata": {},
   "outputs": [
    {
     "name": "stdout",
     "output_type": "stream",
     "text": [
      "F1-score moyen (CV): 0.8078204258153383\n"
     ]
    }
   ],
   "source": [
    "from sklearn.model_selection import cross_val_score\n",
    "#Vérifie que le modèle est stable\n",
    "# Le dataset train est decoupé en 5 parties, 4 pour l'entrainement et 1 pour le test --> Meilleure estimation\n",
    "\n",
    "scores_f1 = cross_val_score(lda, X_train_final, y_train, cv=5, scoring=\"f1\")\n",
    "print(\"F1-score moyen (CV):\", np.mean(scores_f1))\n"
   ]
  },
  {
   "cell_type": "markdown",
   "id": "37605dcc",
   "metadata": {},
   "source": [
    "Réentraînement du modèle LDA sur tous le dataset train"
   ]
  },
  {
   "cell_type": "code",
   "execution_count": 144,
   "id": "10fbe326",
   "metadata": {},
   "outputs": [
    {
     "data": {
      "text/html": [
       "<style>#sk-container-id-1 {\n",
       "  /* Definition of color scheme common for light and dark mode */\n",
       "  --sklearn-color-text: black;\n",
       "  --sklearn-color-line: gray;\n",
       "  /* Definition of color scheme for unfitted estimators */\n",
       "  --sklearn-color-unfitted-level-0: #fff5e6;\n",
       "  --sklearn-color-unfitted-level-1: #f6e4d2;\n",
       "  --sklearn-color-unfitted-level-2: #ffe0b3;\n",
       "  --sklearn-color-unfitted-level-3: chocolate;\n",
       "  /* Definition of color scheme for fitted estimators */\n",
       "  --sklearn-color-fitted-level-0: #f0f8ff;\n",
       "  --sklearn-color-fitted-level-1: #d4ebff;\n",
       "  --sklearn-color-fitted-level-2: #b3dbfd;\n",
       "  --sklearn-color-fitted-level-3: cornflowerblue;\n",
       "\n",
       "  /* Specific color for light theme */\n",
       "  --sklearn-color-text-on-default-background: var(--sg-text-color, var(--theme-code-foreground, var(--jp-content-font-color1, black)));\n",
       "  --sklearn-color-background: var(--sg-background-color, var(--theme-background, var(--jp-layout-color0, white)));\n",
       "  --sklearn-color-border-box: var(--sg-text-color, var(--theme-code-foreground, var(--jp-content-font-color1, black)));\n",
       "  --sklearn-color-icon: #696969;\n",
       "\n",
       "  @media (prefers-color-scheme: dark) {\n",
       "    /* Redefinition of color scheme for dark theme */\n",
       "    --sklearn-color-text-on-default-background: var(--sg-text-color, var(--theme-code-foreground, var(--jp-content-font-color1, white)));\n",
       "    --sklearn-color-background: var(--sg-background-color, var(--theme-background, var(--jp-layout-color0, #111)));\n",
       "    --sklearn-color-border-box: var(--sg-text-color, var(--theme-code-foreground, var(--jp-content-font-color1, white)));\n",
       "    --sklearn-color-icon: #878787;\n",
       "  }\n",
       "}\n",
       "\n",
       "#sk-container-id-1 {\n",
       "  color: var(--sklearn-color-text);\n",
       "}\n",
       "\n",
       "#sk-container-id-1 pre {\n",
       "  padding: 0;\n",
       "}\n",
       "\n",
       "#sk-container-id-1 input.sk-hidden--visually {\n",
       "  border: 0;\n",
       "  clip: rect(1px 1px 1px 1px);\n",
       "  clip: rect(1px, 1px, 1px, 1px);\n",
       "  height: 1px;\n",
       "  margin: -1px;\n",
       "  overflow: hidden;\n",
       "  padding: 0;\n",
       "  position: absolute;\n",
       "  width: 1px;\n",
       "}\n",
       "\n",
       "#sk-container-id-1 div.sk-dashed-wrapped {\n",
       "  border: 1px dashed var(--sklearn-color-line);\n",
       "  margin: 0 0.4em 0.5em 0.4em;\n",
       "  box-sizing: border-box;\n",
       "  padding-bottom: 0.4em;\n",
       "  background-color: var(--sklearn-color-background);\n",
       "}\n",
       "\n",
       "#sk-container-id-1 div.sk-container {\n",
       "  /* jupyter's `normalize.less` sets `[hidden] { display: none; }`\n",
       "     but bootstrap.min.css set `[hidden] { display: none !important; }`\n",
       "     so we also need the `!important` here to be able to override the\n",
       "     default hidden behavior on the sphinx rendered scikit-learn.org.\n",
       "     See: https://github.com/scikit-learn/scikit-learn/issues/21755 */\n",
       "  display: inline-block !important;\n",
       "  position: relative;\n",
       "}\n",
       "\n",
       "#sk-container-id-1 div.sk-text-repr-fallback {\n",
       "  display: none;\n",
       "}\n",
       "\n",
       "div.sk-parallel-item,\n",
       "div.sk-serial,\n",
       "div.sk-item {\n",
       "  /* draw centered vertical line to link estimators */\n",
       "  background-image: linear-gradient(var(--sklearn-color-text-on-default-background), var(--sklearn-color-text-on-default-background));\n",
       "  background-size: 2px 100%;\n",
       "  background-repeat: no-repeat;\n",
       "  background-position: center center;\n",
       "}\n",
       "\n",
       "/* Parallel-specific style estimator block */\n",
       "\n",
       "#sk-container-id-1 div.sk-parallel-item::after {\n",
       "  content: \"\";\n",
       "  width: 100%;\n",
       "  border-bottom: 2px solid var(--sklearn-color-text-on-default-background);\n",
       "  flex-grow: 1;\n",
       "}\n",
       "\n",
       "#sk-container-id-1 div.sk-parallel {\n",
       "  display: flex;\n",
       "  align-items: stretch;\n",
       "  justify-content: center;\n",
       "  background-color: var(--sklearn-color-background);\n",
       "  position: relative;\n",
       "}\n",
       "\n",
       "#sk-container-id-1 div.sk-parallel-item {\n",
       "  display: flex;\n",
       "  flex-direction: column;\n",
       "}\n",
       "\n",
       "#sk-container-id-1 div.sk-parallel-item:first-child::after {\n",
       "  align-self: flex-end;\n",
       "  width: 50%;\n",
       "}\n",
       "\n",
       "#sk-container-id-1 div.sk-parallel-item:last-child::after {\n",
       "  align-self: flex-start;\n",
       "  width: 50%;\n",
       "}\n",
       "\n",
       "#sk-container-id-1 div.sk-parallel-item:only-child::after {\n",
       "  width: 0;\n",
       "}\n",
       "\n",
       "/* Serial-specific style estimator block */\n",
       "\n",
       "#sk-container-id-1 div.sk-serial {\n",
       "  display: flex;\n",
       "  flex-direction: column;\n",
       "  align-items: center;\n",
       "  background-color: var(--sklearn-color-background);\n",
       "  padding-right: 1em;\n",
       "  padding-left: 1em;\n",
       "}\n",
       "\n",
       "\n",
       "/* Toggleable style: style used for estimator/Pipeline/ColumnTransformer box that is\n",
       "clickable and can be expanded/collapsed.\n",
       "- Pipeline and ColumnTransformer use this feature and define the default style\n",
       "- Estimators will overwrite some part of the style using the `sk-estimator` class\n",
       "*/\n",
       "\n",
       "/* Pipeline and ColumnTransformer style (default) */\n",
       "\n",
       "#sk-container-id-1 div.sk-toggleable {\n",
       "  /* Default theme specific background. It is overwritten whether we have a\n",
       "  specific estimator or a Pipeline/ColumnTransformer */\n",
       "  background-color: var(--sklearn-color-background);\n",
       "}\n",
       "\n",
       "/* Toggleable label */\n",
       "#sk-container-id-1 label.sk-toggleable__label {\n",
       "  cursor: pointer;\n",
       "  display: block;\n",
       "  width: 100%;\n",
       "  margin-bottom: 0;\n",
       "  padding: 0.5em;\n",
       "  box-sizing: border-box;\n",
       "  text-align: center;\n",
       "}\n",
       "\n",
       "#sk-container-id-1 label.sk-toggleable__label-arrow:before {\n",
       "  /* Arrow on the left of the label */\n",
       "  content: \"▸\";\n",
       "  float: left;\n",
       "  margin-right: 0.25em;\n",
       "  color: var(--sklearn-color-icon);\n",
       "}\n",
       "\n",
       "#sk-container-id-1 label.sk-toggleable__label-arrow:hover:before {\n",
       "  color: var(--sklearn-color-text);\n",
       "}\n",
       "\n",
       "/* Toggleable content - dropdown */\n",
       "\n",
       "#sk-container-id-1 div.sk-toggleable__content {\n",
       "  max-height: 0;\n",
       "  max-width: 0;\n",
       "  overflow: hidden;\n",
       "  text-align: left;\n",
       "  /* unfitted */\n",
       "  background-color: var(--sklearn-color-unfitted-level-0);\n",
       "}\n",
       "\n",
       "#sk-container-id-1 div.sk-toggleable__content.fitted {\n",
       "  /* fitted */\n",
       "  background-color: var(--sklearn-color-fitted-level-0);\n",
       "}\n",
       "\n",
       "#sk-container-id-1 div.sk-toggleable__content pre {\n",
       "  margin: 0.2em;\n",
       "  border-radius: 0.25em;\n",
       "  color: var(--sklearn-color-text);\n",
       "  /* unfitted */\n",
       "  background-color: var(--sklearn-color-unfitted-level-0);\n",
       "}\n",
       "\n",
       "#sk-container-id-1 div.sk-toggleable__content.fitted pre {\n",
       "  /* unfitted */\n",
       "  background-color: var(--sklearn-color-fitted-level-0);\n",
       "}\n",
       "\n",
       "#sk-container-id-1 input.sk-toggleable__control:checked~div.sk-toggleable__content {\n",
       "  /* Expand drop-down */\n",
       "  max-height: 200px;\n",
       "  max-width: 100%;\n",
       "  overflow: auto;\n",
       "}\n",
       "\n",
       "#sk-container-id-1 input.sk-toggleable__control:checked~label.sk-toggleable__label-arrow:before {\n",
       "  content: \"▾\";\n",
       "}\n",
       "\n",
       "/* Pipeline/ColumnTransformer-specific style */\n",
       "\n",
       "#sk-container-id-1 div.sk-label input.sk-toggleable__control:checked~label.sk-toggleable__label {\n",
       "  color: var(--sklearn-color-text);\n",
       "  background-color: var(--sklearn-color-unfitted-level-2);\n",
       "}\n",
       "\n",
       "#sk-container-id-1 div.sk-label.fitted input.sk-toggleable__control:checked~label.sk-toggleable__label {\n",
       "  background-color: var(--sklearn-color-fitted-level-2);\n",
       "}\n",
       "\n",
       "/* Estimator-specific style */\n",
       "\n",
       "/* Colorize estimator box */\n",
       "#sk-container-id-1 div.sk-estimator input.sk-toggleable__control:checked~label.sk-toggleable__label {\n",
       "  /* unfitted */\n",
       "  background-color: var(--sklearn-color-unfitted-level-2);\n",
       "}\n",
       "\n",
       "#sk-container-id-1 div.sk-estimator.fitted input.sk-toggleable__control:checked~label.sk-toggleable__label {\n",
       "  /* fitted */\n",
       "  background-color: var(--sklearn-color-fitted-level-2);\n",
       "}\n",
       "\n",
       "#sk-container-id-1 div.sk-label label.sk-toggleable__label,\n",
       "#sk-container-id-1 div.sk-label label {\n",
       "  /* The background is the default theme color */\n",
       "  color: var(--sklearn-color-text-on-default-background);\n",
       "}\n",
       "\n",
       "/* On hover, darken the color of the background */\n",
       "#sk-container-id-1 div.sk-label:hover label.sk-toggleable__label {\n",
       "  color: var(--sklearn-color-text);\n",
       "  background-color: var(--sklearn-color-unfitted-level-2);\n",
       "}\n",
       "\n",
       "/* Label box, darken color on hover, fitted */\n",
       "#sk-container-id-1 div.sk-label.fitted:hover label.sk-toggleable__label.fitted {\n",
       "  color: var(--sklearn-color-text);\n",
       "  background-color: var(--sklearn-color-fitted-level-2);\n",
       "}\n",
       "\n",
       "/* Estimator label */\n",
       "\n",
       "#sk-container-id-1 div.sk-label label {\n",
       "  font-family: monospace;\n",
       "  font-weight: bold;\n",
       "  display: inline-block;\n",
       "  line-height: 1.2em;\n",
       "}\n",
       "\n",
       "#sk-container-id-1 div.sk-label-container {\n",
       "  text-align: center;\n",
       "}\n",
       "\n",
       "/* Estimator-specific */\n",
       "#sk-container-id-1 div.sk-estimator {\n",
       "  font-family: monospace;\n",
       "  border: 1px dotted var(--sklearn-color-border-box);\n",
       "  border-radius: 0.25em;\n",
       "  box-sizing: border-box;\n",
       "  margin-bottom: 0.5em;\n",
       "  /* unfitted */\n",
       "  background-color: var(--sklearn-color-unfitted-level-0);\n",
       "}\n",
       "\n",
       "#sk-container-id-1 div.sk-estimator.fitted {\n",
       "  /* fitted */\n",
       "  background-color: var(--sklearn-color-fitted-level-0);\n",
       "}\n",
       "\n",
       "/* on hover */\n",
       "#sk-container-id-1 div.sk-estimator:hover {\n",
       "  /* unfitted */\n",
       "  background-color: var(--sklearn-color-unfitted-level-2);\n",
       "}\n",
       "\n",
       "#sk-container-id-1 div.sk-estimator.fitted:hover {\n",
       "  /* fitted */\n",
       "  background-color: var(--sklearn-color-fitted-level-2);\n",
       "}\n",
       "\n",
       "/* Specification for estimator info (e.g. \"i\" and \"?\") */\n",
       "\n",
       "/* Common style for \"i\" and \"?\" */\n",
       "\n",
       ".sk-estimator-doc-link,\n",
       "a:link.sk-estimator-doc-link,\n",
       "a:visited.sk-estimator-doc-link {\n",
       "  float: right;\n",
       "  font-size: smaller;\n",
       "  line-height: 1em;\n",
       "  font-family: monospace;\n",
       "  background-color: var(--sklearn-color-background);\n",
       "  border-radius: 1em;\n",
       "  height: 1em;\n",
       "  width: 1em;\n",
       "  text-decoration: none !important;\n",
       "  margin-left: 1ex;\n",
       "  /* unfitted */\n",
       "  border: var(--sklearn-color-unfitted-level-1) 1pt solid;\n",
       "  color: var(--sklearn-color-unfitted-level-1);\n",
       "}\n",
       "\n",
       ".sk-estimator-doc-link.fitted,\n",
       "a:link.sk-estimator-doc-link.fitted,\n",
       "a:visited.sk-estimator-doc-link.fitted {\n",
       "  /* fitted */\n",
       "  border: var(--sklearn-color-fitted-level-1) 1pt solid;\n",
       "  color: var(--sklearn-color-fitted-level-1);\n",
       "}\n",
       "\n",
       "/* On hover */\n",
       "div.sk-estimator:hover .sk-estimator-doc-link:hover,\n",
       ".sk-estimator-doc-link:hover,\n",
       "div.sk-label-container:hover .sk-estimator-doc-link:hover,\n",
       ".sk-estimator-doc-link:hover {\n",
       "  /* unfitted */\n",
       "  background-color: var(--sklearn-color-unfitted-level-3);\n",
       "  color: var(--sklearn-color-background);\n",
       "  text-decoration: none;\n",
       "}\n",
       "\n",
       "div.sk-estimator.fitted:hover .sk-estimator-doc-link.fitted:hover,\n",
       ".sk-estimator-doc-link.fitted:hover,\n",
       "div.sk-label-container:hover .sk-estimator-doc-link.fitted:hover,\n",
       ".sk-estimator-doc-link.fitted:hover {\n",
       "  /* fitted */\n",
       "  background-color: var(--sklearn-color-fitted-level-3);\n",
       "  color: var(--sklearn-color-background);\n",
       "  text-decoration: none;\n",
       "}\n",
       "\n",
       "/* Span, style for the box shown on hovering the info icon */\n",
       ".sk-estimator-doc-link span {\n",
       "  display: none;\n",
       "  z-index: 9999;\n",
       "  position: relative;\n",
       "  font-weight: normal;\n",
       "  right: .2ex;\n",
       "  padding: .5ex;\n",
       "  margin: .5ex;\n",
       "  width: min-content;\n",
       "  min-width: 20ex;\n",
       "  max-width: 50ex;\n",
       "  color: var(--sklearn-color-text);\n",
       "  box-shadow: 2pt 2pt 4pt #999;\n",
       "  /* unfitted */\n",
       "  background: var(--sklearn-color-unfitted-level-0);\n",
       "  border: .5pt solid var(--sklearn-color-unfitted-level-3);\n",
       "}\n",
       "\n",
       ".sk-estimator-doc-link.fitted span {\n",
       "  /* fitted */\n",
       "  background: var(--sklearn-color-fitted-level-0);\n",
       "  border: var(--sklearn-color-fitted-level-3);\n",
       "}\n",
       "\n",
       ".sk-estimator-doc-link:hover span {\n",
       "  display: block;\n",
       "}\n",
       "\n",
       "/* \"?\"-specific style due to the `<a>` HTML tag */\n",
       "\n",
       "#sk-container-id-1 a.estimator_doc_link {\n",
       "  float: right;\n",
       "  font-size: 1rem;\n",
       "  line-height: 1em;\n",
       "  font-family: monospace;\n",
       "  background-color: var(--sklearn-color-background);\n",
       "  border-radius: 1rem;\n",
       "  height: 1rem;\n",
       "  width: 1rem;\n",
       "  text-decoration: none;\n",
       "  /* unfitted */\n",
       "  color: var(--sklearn-color-unfitted-level-1);\n",
       "  border: var(--sklearn-color-unfitted-level-1) 1pt solid;\n",
       "}\n",
       "\n",
       "#sk-container-id-1 a.estimator_doc_link.fitted {\n",
       "  /* fitted */\n",
       "  border: var(--sklearn-color-fitted-level-1) 1pt solid;\n",
       "  color: var(--sklearn-color-fitted-level-1);\n",
       "}\n",
       "\n",
       "/* On hover */\n",
       "#sk-container-id-1 a.estimator_doc_link:hover {\n",
       "  /* unfitted */\n",
       "  background-color: var(--sklearn-color-unfitted-level-3);\n",
       "  color: var(--sklearn-color-background);\n",
       "  text-decoration: none;\n",
       "}\n",
       "\n",
       "#sk-container-id-1 a.estimator_doc_link.fitted:hover {\n",
       "  /* fitted */\n",
       "  background-color: var(--sklearn-color-fitted-level-3);\n",
       "}\n",
       "</style><div id=\"sk-container-id-1\" class=\"sk-top-container\"><div class=\"sk-text-repr-fallback\"><pre>LinearDiscriminantAnalysis(covariance_estimator=None, n_components=None,\n",
       "                           priors=None, shrinkage=&#x27;auto&#x27;, solver=&#x27;lsqr&#x27;,\n",
       "                           store_covariance=False, tol=0.0001)</pre><b>In a Jupyter environment, please rerun this cell to show the HTML representation or trust the notebook. <br />On GitHub, the HTML representation is unable to render, please try loading this page with nbviewer.org.</b></div><div class=\"sk-container\" hidden><div class=\"sk-item\"><div class=\"sk-estimator fitted sk-toggleable\"><input class=\"sk-toggleable__control sk-hidden--visually\" id=\"sk-estimator-id-1\" type=\"checkbox\" checked><label for=\"sk-estimator-id-1\" class=\"sk-toggleable__label fitted sk-toggleable__label-arrow fitted\">&nbsp;&nbsp;LinearDiscriminantAnalysis<a class=\"sk-estimator-doc-link fitted\" rel=\"noreferrer\" target=\"_blank\" href=\"https://scikit-learn.org/1.4/modules/generated/sklearn.discriminant_analysis.LinearDiscriminantAnalysis.html\">?<span>Documentation for LinearDiscriminantAnalysis</span></a><span class=\"sk-estimator-doc-link fitted\">i<span>Fitted</span></span></label><div class=\"sk-toggleable__content fitted\"><pre>LinearDiscriminantAnalysis(covariance_estimator=None, n_components=None,\n",
       "                           priors=None, shrinkage=&#x27;auto&#x27;, solver=&#x27;lsqr&#x27;,\n",
       "                           store_covariance=False, tol=0.0001)</pre></div> </div></div></div></div>"
      ],
      "text/plain": [
       "LinearDiscriminantAnalysis(covariance_estimator=None, n_components=None,\n",
       "                           priors=None, shrinkage='auto', solver='lsqr',\n",
       "                           store_covariance=False, tol=0.0001)"
      ]
     },
     "execution_count": 144,
     "metadata": {},
     "output_type": "execute_result"
    }
   ],
   "source": [
    "lda.fit(X_train_final, y_train)"
   ]
  },
  {
   "cell_type": "markdown",
   "id": "097c9ca0",
   "metadata": {},
   "source": [
    "#### Evaluation finale sur les données de test"
   ]
  },
  {
   "cell_type": "code",
   "execution_count": 145,
   "id": "b396fde8",
   "metadata": {},
   "outputs": [
    {
     "name": "stdout",
     "output_type": "stream",
     "text": [
      "              precision    recall  f1-score   support\n",
      "\n",
      "           0       0.75      0.08      0.14        38\n",
      "           1       0.71      0.99      0.82        85\n",
      "\n",
      "    accuracy                           0.71       123\n",
      "   macro avg       0.73      0.53      0.48       123\n",
      "weighted avg       0.72      0.71      0.61       123\n",
      "\n",
      "[[ 3 35]\n",
      " [ 1 84]]\n"
     ]
    }
   ],
   "source": [
    "y_pred = lda.predict(X_test_final)\n",
    "print(classification_report(y_test, y_pred))\n",
    "print(confusion_matrix(y_test, y_pred))\n"
   ]
  },
  {
   "cell_type": "markdown",
   "id": "6d62a492",
   "metadata": {},
   "source": [
    "#### Sauvegarde du modèle"
   ]
  },
  {
   "cell_type": "code",
   "execution_count": 150,
   "id": "550acc53",
   "metadata": {},
   "outputs": [
    {
     "data": {
      "text/plain": [
       "['../models/best_model_lda.pkl']"
      ]
     },
     "execution_count": 150,
     "metadata": {},
     "output_type": "execute_result"
    }
   ],
   "source": [
    "import joblib\n",
    "joblib.dump(lda, \"../models/best_model_lda.pkl\")"
   ]
  },
  {
   "cell_type": "markdown",
   "id": "835a48c8",
   "metadata": {},
   "source": [
    "#### Comparaison scores train vs test"
   ]
  },
  {
   "cell_type": "code",
   "execution_count": 153,
   "id": "810e3502",
   "metadata": {},
   "outputs": [
    {
     "name": "stdout",
     "output_type": "stream",
     "text": [
      "Métriques (train vs test) :\n",
      "\n",
      "Accuracy: Train = 0.682 | Test = 0.707\n",
      "F1-score: Train = 0.811 | Test = 0.824\n",
      "Recall: Train = 0.991 | Test = 0.988\n",
      "Precision: Train = 0.686 | Test = 0.706\n"
     ]
    }
   ],
   "source": [
    "from sklearn.metrics import accuracy_score, f1_score, recall_score, precision_score\n",
    "import joblib\n",
    "best_model = joblib.load(\"../models/best_model_lda.pkl\")\n",
    "# Prédictions\n",
    "y_train_pred = best_model.predict(X_train_final)\n",
    "y_test_pred = best_model.predict(X_test_final)\n",
    "\n",
    "# Calcul des métriques\n",
    "metrics = {\n",
    "    \"Accuracy\": (\n",
    "        accuracy_score(y_train, y_train_pred),\n",
    "        accuracy_score(y_test, y_test_pred)\n",
    "    ),\n",
    "    \"F1-score\": (\n",
    "        f1_score(y_train, y_train_pred),\n",
    "        f1_score(y_test, y_test_pred)\n",
    "    ),\n",
    "    \"Recall\": (\n",
    "        recall_score(y_train, y_train_pred),\n",
    "        recall_score(y_test, y_test_pred)\n",
    "    ),\n",
    "    \"Precision\": (\n",
    "        precision_score(y_train, y_train_pred),\n",
    "        precision_score(y_test, y_test_pred)\n",
    "    )\n",
    "}\n",
    "\n",
    "# Affichage comparatif\n",
    "print(\"Métriques (train vs test) :\\n\")\n",
    "for m, (train_val, test_val) in metrics.items():\n",
    "    print(f\"{m}: Train = {train_val:.3f} | Test = {test_val:.3f}\")\n"
   ]
  },
  {
   "cell_type": "markdown",
   "id": "c4d94a1c",
   "metadata": {},
   "source": [
    "#### Préparation de la pipeline de prédiction"
   ]
  },
  {
   "cell_type": "code",
   "execution_count": 151,
   "id": "34d088f0",
   "metadata": {},
   "outputs": [
    {
     "data": {
      "text/plain": [
       "['../models/scaler.pkl']"
      ]
     },
     "execution_count": 151,
     "metadata": {},
     "output_type": "execute_result"
    }
   ],
   "source": [
    "joblib.dump(encoder, \"../models/encoder.pkl\")\n",
    "joblib.dump(scaler, \"../models/scaler.pkl\")"
   ]
  }
 ],
 "metadata": {
  "kernelspec": {
   "display_name": "venv",
   "language": "python",
   "name": "python3"
  },
  "language_info": {
   "codemirror_mode": {
    "name": "ipython",
    "version": 3
   },
   "file_extension": ".py",
   "mimetype": "text/x-python",
   "name": "python",
   "nbconvert_exporter": "python",
   "pygments_lexer": "ipython3",
   "version": "3.11.9"
  }
 },
 "nbformat": 4,
 "nbformat_minor": 5
}
